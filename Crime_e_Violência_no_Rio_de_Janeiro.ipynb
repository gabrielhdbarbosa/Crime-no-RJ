{
  "nbformat": 4,
  "nbformat_minor": 0,
  "metadata": {
    "colab": {
      "name": "Crime e Violência no Rio de Janeiro.ipynb",
      "provenance": [],
      "collapsed_sections": [
        "7vh4at0l90nr",
        "qb5By2nIMS6m",
        "9KgBAs4a0WRb"
      ],
      "toc_visible": true,
      "include_colab_link": true
    },
    "kernelspec": {
      "name": "python3",
      "display_name": "Python 3"
    }
  },
  "cells": [
    {
      "cell_type": "markdown",
      "metadata": {
        "id": "view-in-github",
        "colab_type": "text"
      },
      "source": [
        "<a href=\"https://colab.research.google.com/github/ghrbarbosa/Crime-no-RJ/blob/main/Crime_e_Viol%C3%AAncia_no_Rio_de_Janeiro.ipynb\" target=\"_parent\"><img src=\"https://colab.research.google.com/assets/colab-badge.svg\" alt=\"Open In Colab\"/></a>"
      ]
    },
    {
      "cell_type": "markdown",
      "metadata": {
        "id": "-eFQZydM9O9J"
      },
      "source": [
        "#### **Crime e violência no Rio de Janeiro**\n",
        "\n",
        "---\n",
        "\n",
        "Para alguns, citar **violência** e **Rio de Janeiro** na mesma frase pode soar como redundância. Para outros, é ignorância limitar a Cidade Maravilhosa às estatísticas criminais que a cidade possui.\n",
        "\n",
        "Neste artigo eu vou dizer brevemente alguns *insights* que obtive no meu [**trabalho de monografia**](https://github.com/ghrbarbosa/Monografia-Sistema-de-Metas-para-Policiais-no-Rio-de-Janeiro/), além de utilizar uma simples análise exploratória dos dados que selecionamos.\n",
        "\n",
        "<center><img alt=\"Policial RJ\" width=\"60%\" src=\"https://veja.abril.com.br/wp-content/uploads/2018/03/rio-de-janeiro-intervencao-exercito-2018-2064.jpg\"></center>\n",
        "\n",
        "No entanto, sabemos que a origem do crime e suas principais motivações vão além do senso comum, tornando um assunto delicado de se abordar. Por isso, não vamos entrar em qualquer discussão **política** ou **social**, mas sim verificar os dados e tirar nossas conclusões superficiais em cima das estatísticas, estamos combinados?\n"
      ]
    },
    {
      "cell_type": "markdown",
      "metadata": {
        "id": "0zxQHhIUDF_2"
      },
      "source": [
        "## Obtenção dos Dados\n",
        "\n",
        "\n",
        "O estado do Rio de Janeiro, hoje, **conta com uma das melhores bases de dados com estatísticas criminais de todo o Brasil**. Isso muito se dá ao trabalho do Instituto de Segurança Pública do RJ (ISP) junto com a Secretaria de Segurança Pública (SSP) a partir dos Registros de Ocorrência (RO) lavrados nas delegacias de Polícia Civil, com informações complementares da Polícia Militar. As principais bases são encontradas [no seu portal](http://www.ispdados.rj.gov.br/estatistica.html/), para quem quiser conhecer mais o assunto (juro que vale a pena).\n",
        "\n",
        "<center><img alt=\"ISP Dados\" width=\"30%\" src=\"data:image/png;base64,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\"></center>\n",
        "\n",
        "\n",
        "Para verificar a qualidade de procedência das informações, antes de serem consolidados os RO são submetidos à Corregedoria Interna da Polícia Civil (COINPOL). As estatísticas produzidas baseiam-se na data que o Registro de Ocorrência foi submetido.\n",
        "\n",
        "No caso do *dataset* a ser utilizado aqui, o arquivo `csv` pode ser baixado diretamente [no meu repositório no GitHub](https://raw.githubusercontent.com/ghrbarbosa/Crime-no-RJ/main/base_policia_ds_github.csv/)."
      ]
    },
    {
      "cell_type": "markdown",
      "metadata": {
        "id": "7vh4at0l90nr"
      },
      "source": [
        "### Importando os pacotes e os dados"
      ]
    },
    {
      "cell_type": "code",
      "metadata": {
        "id": "CYLNme_OCX_R"
      },
      "source": [
        "import pandas as pd\n",
        "import numpy as np\n",
        "\n",
        "df = pd.read_csv('https://raw.githubusercontent.com/ghrbarbosa/Crime-no-RJ/main/base_policia_ds_github.csv', sep=';', encoding='latin-1')"
      ],
      "execution_count": 2,
      "outputs": []
    },
    {
      "cell_type": "markdown",
      "metadata": {
        "id": "qb5By2nIMS6m"
      },
      "source": [
        "## Análise Inicial dos Dados\n",
        "\n",
        "Antes de qualquer análise, é crucial que saibamos com qual base estamos lidando, certo? Para isso vamos conhecer as dimensões da base que preparei.\n"
      ]
    },
    {
      "cell_type": "code",
      "metadata": {
        "colab": {
          "base_uri": "https://localhost:8080/"
        },
        "id": "H4XcvndYkxY9",
        "outputId": "f5b4035a-4c75-4171-fe8e-bcc0b7af28bb"
      },
      "source": [
        "print(\"Variáveis: \", df.shape[1])\n",
        "print(\"Entradas: \", df.shape[0])\n",
        "\n",
        "print(\"Total de informações: \", df.shape[1] * df.shape[0])"
      ],
      "execution_count": null,
      "outputs": [
        {
          "output_type": "stream",
          "text": [
            "Variáveis:  20\n",
            "Entradas:  29231\n",
            "Total de informações:  584620\n"
          ],
          "name": "stdout"
        }
      ]
    },
    {
      "cell_type": "markdown",
      "metadata": {
        "id": "qlHka2S6x3dh"
      },
      "source": [
        "Ou seja, são 20 colunas e 29.231 linhas, totalizando 584.620 dados!"
      ]
    },
    {
      "cell_type": "markdown",
      "metadata": {
        "id": "rGwsmkGblzSp"
      },
      "source": [
        "Agora, vamos conhecer o nome dessas variáveis que selecionei."
      ]
    },
    {
      "cell_type": "code",
      "metadata": {
        "colab": {
          "base_uri": "https://localhost:8080/"
        },
        "id": "_KSd0MHclsAd",
        "outputId": "024b36ce-c8f3-4024-b290-44882e4f5082"
      },
      "source": [
        "df.columns"
      ],
      "execution_count": null,
      "outputs": [
        {
          "output_type": "execute_result",
          "data": {
            "text/plain": [
              "Index(['cod_ref', 'mes', 'ano', 'CISP', 'AISP', 'RISP', 'munic', 'Regiao',\n",
              "       'hom_doloso', 'lesao_corp_morte', 'latrocinio',\n",
              "       'hom_por_interv_policial', 'estupro', 'roubo_veiculo', 'furto_veiculos',\n",
              "       'sequestro', 'sequestro_relampago', 'recuperacao_veiculos',\n",
              "       'pol_militares_mortos_serv', 'pol_civis_mortos_serv'],\n",
              "      dtype='object')"
            ]
          },
          "metadata": {
            "tags": []
          },
          "execution_count": 37
        }
      ]
    },
    {
      "cell_type": "markdown",
      "metadata": {
        "id": "jYXjGI2wyaX-"
      },
      "source": [
        "Aqui pode ficar um pouco confuso, mas nos dá uma ideia de qual o tipo de variável que estamos lidando. Para mais informações sobre essas variáveis, [acesse esse link](http://www.ispdados.rj.gov.br/Arquivos/BaseDpDicionarioDeVariaveis.xlsx/)."
      ]
    },
    {
      "cell_type": "markdown",
      "metadata": {
        "id": "pHyY_NZ2mgdY"
      },
      "source": [
        "Agora vamos identificar em que formato essas variáveis são fornecidas. Isso nos orientará quanto ao tratamento que vamos dar aos dados, seja na limpeza ou nas análises."
      ]
    },
    {
      "cell_type": "code",
      "metadata": {
        "colab": {
          "base_uri": "https://localhost:8080/"
        },
        "id": "u4Eqys3WnvKP",
        "outputId": "8a90aa68-0cf5-4086-8949-76fba4e4e482"
      },
      "source": [
        "df.dtypes"
      ],
      "execution_count": null,
      "outputs": [
        {
          "output_type": "execute_result",
          "data": {
            "text/plain": [
              "cod_ref                      object\n",
              "mes                           int64\n",
              "ano                           int64\n",
              "CISP                          int64\n",
              "AISP                          int64\n",
              "RISP                          int64\n",
              "munic                        object\n",
              "Regiao                       object\n",
              "hom_doloso                    int64\n",
              "lesao_corp_morte              int64\n",
              "latrocinio                    int64\n",
              "hom_por_interv_policial       int64\n",
              "estupro                       int64\n",
              "roubo_veiculo                 int64\n",
              "furto_veiculos                int64\n",
              "sequestro                     int64\n",
              "sequestro_relampago           int64\n",
              "recuperacao_veiculos          int64\n",
              "pol_militares_mortos_serv     int64\n",
              "pol_civis_mortos_serv         int64\n",
              "dtype: object"
            ]
          },
          "metadata": {
            "tags": []
          },
          "execution_count": 93
        }
      ]
    },
    {
      "cell_type": "markdown",
      "metadata": {
        "id": "FGQrhH0qoB7r"
      },
      "source": [
        "Acima vimos que todas as variáveis (com exceção dos nomes dos municípios) estão no formato `int`, o que vai facilitar nossas análises posteriores."
      ]
    },
    {
      "cell_type": "markdown",
      "metadata": {
        "id": "2TEyp_ENovYY"
      },
      "source": [
        "Em seguida, vamos verificar como fica as nossas primeiras entradas na nossa base de dados. Aqui teremos uma ideia simples de como ficam apresentados esses dados e como vamos trabalhar com eles."
      ]
    },
    {
      "cell_type": "code",
      "metadata": {
        "colab": {
          "base_uri": "https://localhost:8080/",
          "height": 309
        },
        "id": "MwPWNe2xpK3n",
        "outputId": "e2ca3f19-a583-4273-90b0-7e3c2d777f08"
      },
      "source": [
        "df.head()"
      ],
      "execution_count": null,
      "outputs": [
        {
          "output_type": "execute_result",
          "data": {
            "text/html": [
              "<div>\n",
              "<style scoped>\n",
              "    .dataframe tbody tr th:only-of-type {\n",
              "        vertical-align: middle;\n",
              "    }\n",
              "\n",
              "    .dataframe tbody tr th {\n",
              "        vertical-align: top;\n",
              "    }\n",
              "\n",
              "    .dataframe thead th {\n",
              "        text-align: right;\n",
              "    }\n",
              "</style>\n",
              "<table border=\"1\" class=\"dataframe\">\n",
              "  <thead>\n",
              "    <tr style=\"text-align: right;\">\n",
              "      <th></th>\n",
              "      <th>cod_ref</th>\n",
              "      <th>mes</th>\n",
              "      <th>ano</th>\n",
              "      <th>CISP</th>\n",
              "      <th>AISP</th>\n",
              "      <th>RISP</th>\n",
              "      <th>munic</th>\n",
              "      <th>Regiao</th>\n",
              "      <th>hom_doloso</th>\n",
              "      <th>lesao_corp_morte</th>\n",
              "      <th>latrocinio</th>\n",
              "      <th>hom_por_interv_policial</th>\n",
              "      <th>estupro</th>\n",
              "      <th>roubo_veiculo</th>\n",
              "      <th>furto_veiculos</th>\n",
              "      <th>sequestro</th>\n",
              "      <th>sequestro_relampago</th>\n",
              "      <th>recuperacao_veiculos</th>\n",
              "      <th>pol_militares_mortos_serv</th>\n",
              "      <th>pol_civis_mortos_serv</th>\n",
              "    </tr>\n",
              "  </thead>\n",
              "  <tbody>\n",
              "    <tr>\n",
              "      <th>0</th>\n",
              "      <td>2003m01c1</td>\n",
              "      <td>1</td>\n",
              "      <td>2003</td>\n",
              "      <td>1</td>\n",
              "      <td>5</td>\n",
              "      <td>1</td>\n",
              "      <td>Rio de Janeiro</td>\n",
              "      <td>Capital</td>\n",
              "      <td>0</td>\n",
              "      <td>0</td>\n",
              "      <td>0</td>\n",
              "      <td>0</td>\n",
              "      <td>0</td>\n",
              "      <td>5</td>\n",
              "      <td>12</td>\n",
              "      <td>0</td>\n",
              "      <td>0</td>\n",
              "      <td>5</td>\n",
              "      <td>0</td>\n",
              "      <td>0</td>\n",
              "    </tr>\n",
              "    <tr>\n",
              "      <th>1</th>\n",
              "      <td>2003m01c4</td>\n",
              "      <td>1</td>\n",
              "      <td>2003</td>\n",
              "      <td>4</td>\n",
              "      <td>5</td>\n",
              "      <td>1</td>\n",
              "      <td>Rio de Janeiro</td>\n",
              "      <td>Capital</td>\n",
              "      <td>3</td>\n",
              "      <td>0</td>\n",
              "      <td>0</td>\n",
              "      <td>0</td>\n",
              "      <td>1</td>\n",
              "      <td>9</td>\n",
              "      <td>9</td>\n",
              "      <td>0</td>\n",
              "      <td>0</td>\n",
              "      <td>7</td>\n",
              "      <td>0</td>\n",
              "      <td>0</td>\n",
              "    </tr>\n",
              "    <tr>\n",
              "      <th>2</th>\n",
              "      <td>2003m01c5</td>\n",
              "      <td>1</td>\n",
              "      <td>2003</td>\n",
              "      <td>5</td>\n",
              "      <td>5</td>\n",
              "      <td>1</td>\n",
              "      <td>Rio de Janeiro</td>\n",
              "      <td>Capital</td>\n",
              "      <td>3</td>\n",
              "      <td>0</td>\n",
              "      <td>0</td>\n",
              "      <td>0</td>\n",
              "      <td>2</td>\n",
              "      <td>11</td>\n",
              "      <td>28</td>\n",
              "      <td>0</td>\n",
              "      <td>0</td>\n",
              "      <td>10</td>\n",
              "      <td>0</td>\n",
              "      <td>0</td>\n",
              "    </tr>\n",
              "    <tr>\n",
              "      <th>3</th>\n",
              "      <td>2003m01c6</td>\n",
              "      <td>1</td>\n",
              "      <td>2003</td>\n",
              "      <td>6</td>\n",
              "      <td>1</td>\n",
              "      <td>1</td>\n",
              "      <td>Rio de Janeiro</td>\n",
              "      <td>Capital</td>\n",
              "      <td>6</td>\n",
              "      <td>0</td>\n",
              "      <td>0</td>\n",
              "      <td>0</td>\n",
              "      <td>2</td>\n",
              "      <td>27</td>\n",
              "      <td>17</td>\n",
              "      <td>0</td>\n",
              "      <td>0</td>\n",
              "      <td>77</td>\n",
              "      <td>0</td>\n",
              "      <td>0</td>\n",
              "    </tr>\n",
              "    <tr>\n",
              "      <th>4</th>\n",
              "      <td>2003m01c7</td>\n",
              "      <td>1</td>\n",
              "      <td>2003</td>\n",
              "      <td>7</td>\n",
              "      <td>1</td>\n",
              "      <td>1</td>\n",
              "      <td>Rio de Janeiro</td>\n",
              "      <td>Capital</td>\n",
              "      <td>4</td>\n",
              "      <td>0</td>\n",
              "      <td>0</td>\n",
              "      <td>0</td>\n",
              "      <td>2</td>\n",
              "      <td>23</td>\n",
              "      <td>12</td>\n",
              "      <td>0</td>\n",
              "      <td>0</td>\n",
              "      <td>9</td>\n",
              "      <td>0</td>\n",
              "      <td>0</td>\n",
              "    </tr>\n",
              "  </tbody>\n",
              "</table>\n",
              "</div>"
            ],
            "text/plain": [
              "     cod_ref  mes  ...  pol_militares_mortos_serv  pol_civis_mortos_serv\n",
              "0  2003m01c1    1  ...                          0                      0\n",
              "1  2003m01c4    1  ...                          0                      0\n",
              "2  2003m01c5    1  ...                          0                      0\n",
              "3  2003m01c6    1  ...                          0                      0\n",
              "4  2003m01c7    1  ...                          0                      0\n",
              "\n",
              "[5 rows x 20 columns]"
            ]
          },
          "metadata": {
            "tags": []
          },
          "execution_count": 94
        }
      ]
    },
    {
      "cell_type": "markdown",
      "metadata": {
        "id": "mkh6_Si-pVbD"
      },
      "source": [
        "A base que selecionei contém informações para crimes selecionados a partir de 2003. Segundo o próprio site do ISP, a base foi tratada e as informações foram revisadas. As bases com os dados de períodos anteriores provavelmente não receberam os tratamentos que esta base recebeu, por isso, não é necessário limpar qualquer informação aqui no Colab.\n",
        "\n",
        "De qualquer forma, segue abaixo a verificação de dados ausentes."
      ]
    },
    {
      "cell_type": "code",
      "metadata": {
        "colab": {
          "base_uri": "https://localhost:8080/"
        },
        "id": "KDcXJouxq17R",
        "outputId": "6f492416-073c-4805-f95b-44eb6c431023"
      },
      "source": [
        "(df.isnull().sum()/ df.shape[0]).sort_values(ascending=False)"
      ],
      "execution_count": null,
      "outputs": [
        {
          "output_type": "execute_result",
          "data": {
            "text/plain": [
              "pol_civis_mortos_serv        0.0\n",
              "pol_militares_mortos_serv    0.0\n",
              "mes                          0.0\n",
              "ano                          0.0\n",
              "CISP                         0.0\n",
              "AISP                         0.0\n",
              "RISP                         0.0\n",
              "munic                        0.0\n",
              "Regiao                       0.0\n",
              "hom_doloso                   0.0\n",
              "lesao_corp_morte             0.0\n",
              "latrocinio                   0.0\n",
              "hom_por_interv_policial      0.0\n",
              "estupro                      0.0\n",
              "roubo_veiculo                0.0\n",
              "furto_veiculos               0.0\n",
              "sequestro                    0.0\n",
              "sequestro_relampago          0.0\n",
              "recuperacao_veiculos         0.0\n",
              "cod_ref                      0.0\n",
              "dtype: float64"
            ]
          },
          "metadata": {
            "tags": []
          },
          "execution_count": 95
        }
      ]
    },
    {
      "cell_type": "markdown",
      "metadata": {
        "id": "HlFNs6bkrMFX"
      },
      "source": [
        "Conforme dito, nenhuma das variáveis tem valores faltantes. Isso se dá pelo fato de que eu removi previamente um número considerável de variáveis que não agregariam na nossa análise. Caso interesse, a base se encontra no meu [repositório no GitHub](https://github.com/ghrbarbosa/Crime-no-RJ/).\n",
        "\n",
        "O portal de dados do ISP conta com inúmeras bases, e com elas outras formas de encararmos e explorarmos os dados, como por exemplo:\n",
        "\n",
        "* Números anuais por crime;\n",
        "* Números mensais por crime;\n",
        "* Proporcional com a população (100 mil habitantes);\n",
        "* Categorias de crimes (Contra a vida, Contra o patrimônio, etc.)\n",
        "\n",
        "Vale conferir!"
      ]
    },
    {
      "cell_type": "markdown",
      "metadata": {
        "id": "G6dnsNYm-41g"
      },
      "source": [
        "# Informações Estatísticas da Violência\n",
        "\n",
        "Nesse ponto vamos iniciar a análise dos dois principais tipos de atividades criminais: Crimes Violentos e Crimes Patrimoniais. No meu [**trabalho de monografia**](https://github.com/ghrbarbosa/Monografia-Sistema-de-Metas-para-Policiais-no-Rio-de-Janeiro/) eu apresento um vasto arcabouço teórico que aborda algumas análises sobre essas atividades, além de apresentar alguns casos ocorridos ao redor do mundo.\n",
        "\n",
        "Com o objetivo de sermos breves, veremos:\n",
        "\n",
        "* O resumo estatístico das variáveis principais;\n",
        "* Encontraremos os valores máximos (`max`) das variáveis selecionadas;\n",
        "* Veremos os gráficos mais interessantes do período.\n"
      ]
    },
    {
      "cell_type": "markdown",
      "metadata": {
        "id": "9KgBAs4a0WRb"
      },
      "source": [
        "## Crimes Violentos"
      ]
    },
    {
      "cell_type": "code",
      "metadata": {
        "colab": {
          "base_uri": "https://localhost:8080/",
          "height": 297
        },
        "id": "oRBmErNx3yAW",
        "outputId": "5989403b-5919-48b0-dbc4-8196b5b28265"
      },
      "source": [
        "df[['hom_doloso', 'lesao_corp_morte', 'latrocinio', 'hom_por_interv_policial']].describe()"
      ],
      "execution_count": null,
      "outputs": [
        {
          "output_type": "execute_result",
          "data": {
            "text/html": [
              "<div>\n",
              "<style scoped>\n",
              "    .dataframe tbody tr th:only-of-type {\n",
              "        vertical-align: middle;\n",
              "    }\n",
              "\n",
              "    .dataframe tbody tr th {\n",
              "        vertical-align: top;\n",
              "    }\n",
              "\n",
              "    .dataframe thead th {\n",
              "        text-align: right;\n",
              "    }\n",
              "</style>\n",
              "<table border=\"1\" class=\"dataframe\">\n",
              "  <thead>\n",
              "    <tr style=\"text-align: right;\">\n",
              "      <th></th>\n",
              "      <th>hom_doloso</th>\n",
              "      <th>lesao_corp_morte</th>\n",
              "      <th>latrocinio</th>\n",
              "      <th>hom_por_interv_policial</th>\n",
              "    </tr>\n",
              "  </thead>\n",
              "  <tbody>\n",
              "    <tr>\n",
              "      <th>count</th>\n",
              "      <td>29231.000000</td>\n",
              "      <td>29231.000000</td>\n",
              "      <td>29231.000000</td>\n",
              "      <td>29231.000000</td>\n",
              "    </tr>\n",
              "    <tr>\n",
              "      <th>mean</th>\n",
              "      <td>3.221067</td>\n",
              "      <td>0.027402</td>\n",
              "      <td>0.108036</td>\n",
              "      <td>0.623892</td>\n",
              "    </tr>\n",
              "    <tr>\n",
              "      <th>std</th>\n",
              "      <td>4.645789</td>\n",
              "      <td>0.179047</td>\n",
              "      <td>0.392664</td>\n",
              "      <td>1.576741</td>\n",
              "    </tr>\n",
              "    <tr>\n",
              "      <th>min</th>\n",
              "      <td>0.000000</td>\n",
              "      <td>0.000000</td>\n",
              "      <td>0.000000</td>\n",
              "      <td>0.000000</td>\n",
              "    </tr>\n",
              "    <tr>\n",
              "      <th>25%</th>\n",
              "      <td>0.000000</td>\n",
              "      <td>0.000000</td>\n",
              "      <td>0.000000</td>\n",
              "      <td>0.000000</td>\n",
              "    </tr>\n",
              "    <tr>\n",
              "      <th>50%</th>\n",
              "      <td>1.000000</td>\n",
              "      <td>0.000000</td>\n",
              "      <td>0.000000</td>\n",
              "      <td>0.000000</td>\n",
              "    </tr>\n",
              "    <tr>\n",
              "      <th>75%</th>\n",
              "      <td>4.000000</td>\n",
              "      <td>0.000000</td>\n",
              "      <td>0.000000</td>\n",
              "      <td>0.000000</td>\n",
              "    </tr>\n",
              "    <tr>\n",
              "      <th>max</th>\n",
              "      <td>43.000000</td>\n",
              "      <td>6.000000</td>\n",
              "      <td>9.000000</td>\n",
              "      <td>27.000000</td>\n",
              "    </tr>\n",
              "  </tbody>\n",
              "</table>\n",
              "</div>"
            ],
            "text/plain": [
              "         hom_doloso  lesao_corp_morte    latrocinio  hom_por_interv_policial\n",
              "count  29231.000000      29231.000000  29231.000000             29231.000000\n",
              "mean       3.221067          0.027402      0.108036                 0.623892\n",
              "std        4.645789          0.179047      0.392664                 1.576741\n",
              "min        0.000000          0.000000      0.000000                 0.000000\n",
              "25%        0.000000          0.000000      0.000000                 0.000000\n",
              "50%        1.000000          0.000000      0.000000                 0.000000\n",
              "75%        4.000000          0.000000      0.000000                 0.000000\n",
              "max       43.000000          6.000000      9.000000                27.000000"
            ]
          },
          "metadata": {
            "tags": []
          },
          "execution_count": 96
        }
      ]
    },
    {
      "cell_type": "code",
      "metadata": {
        "colab": {
          "base_uri": "https://localhost:8080/",
          "height": 117
        },
        "id": "DTSaiUkD_hyA",
        "outputId": "ded1a120-def2-481b-df47-494ed40ff051"
      },
      "source": [
        "df[df.hom_doloso == 43]"
      ],
      "execution_count": null,
      "outputs": [
        {
          "output_type": "execute_result",
          "data": {
            "text/html": [
              "<div>\n",
              "<style scoped>\n",
              "    .dataframe tbody tr th:only-of-type {\n",
              "        vertical-align: middle;\n",
              "    }\n",
              "\n",
              "    .dataframe tbody tr th {\n",
              "        vertical-align: top;\n",
              "    }\n",
              "\n",
              "    .dataframe thead th {\n",
              "        text-align: right;\n",
              "    }\n",
              "</style>\n",
              "<table border=\"1\" class=\"dataframe\">\n",
              "  <thead>\n",
              "    <tr style=\"text-align: right;\">\n",
              "      <th></th>\n",
              "      <th>cod_ref</th>\n",
              "      <th>mes</th>\n",
              "      <th>ano</th>\n",
              "      <th>CISP</th>\n",
              "      <th>AISP</th>\n",
              "      <th>RISP</th>\n",
              "      <th>munic</th>\n",
              "      <th>Regiao</th>\n",
              "      <th>hom_doloso</th>\n",
              "      <th>lesao_corp_morte</th>\n",
              "      <th>latrocinio</th>\n",
              "      <th>hom_por_interv_policial</th>\n",
              "      <th>estupro</th>\n",
              "      <th>roubo_veiculo</th>\n",
              "      <th>furto_veiculos</th>\n",
              "      <th>sequestro</th>\n",
              "      <th>sequestro_relampago</th>\n",
              "      <th>recuperacao_veiculos</th>\n",
              "      <th>pol_militares_mortos_serv</th>\n",
              "      <th>pol_civis_mortos_serv</th>\n",
              "    </tr>\n",
              "  </thead>\n",
              "  <tbody>\n",
              "    <tr>\n",
              "      <th>2062</th>\n",
              "      <td>2004m05c21</td>\n",
              "      <td>5</td>\n",
              "      <td>2004</td>\n",
              "      <td>21</td>\n",
              "      <td>22</td>\n",
              "      <td>1</td>\n",
              "      <td>Rio de Janeiro</td>\n",
              "      <td>Capital</td>\n",
              "      <td>43</td>\n",
              "      <td>0</td>\n",
              "      <td>0</td>\n",
              "      <td>8</td>\n",
              "      <td>2</td>\n",
              "      <td>175</td>\n",
              "      <td>39</td>\n",
              "      <td>0</td>\n",
              "      <td>0</td>\n",
              "      <td>171</td>\n",
              "      <td>2</td>\n",
              "      <td>0</td>\n",
              "    </tr>\n",
              "  </tbody>\n",
              "</table>\n",
              "</div>"
            ],
            "text/plain": [
              "         cod_ref  mes  ...  pol_militares_mortos_serv  pol_civis_mortos_serv\n",
              "2062  2004m05c21    5  ...                          2                      0\n",
              "\n",
              "[1 rows x 20 columns]"
            ]
          },
          "metadata": {
            "tags": []
          },
          "execution_count": 97
        }
      ]
    },
    {
      "cell_type": "markdown",
      "metadata": {
        "id": "73iHzcHeA8Sd"
      },
      "source": [
        "Benfica, Bonsucesso, Higienópolis, Manguinhos, Maré e Ramos"
      ]
    },
    {
      "cell_type": "code",
      "metadata": {
        "colab": {
          "base_uri": "https://localhost:8080/",
          "height": 117
        },
        "id": "OpmYgursAnrP",
        "outputId": "8f8553ba-5557-4530-bf25-416fa3ed222d"
      },
      "source": [
        "df[df.lesao_corp_morte == 6]"
      ],
      "execution_count": null,
      "outputs": [
        {
          "output_type": "execute_result",
          "data": {
            "text/html": [
              "<div>\n",
              "<style scoped>\n",
              "    .dataframe tbody tr th:only-of-type {\n",
              "        vertical-align: middle;\n",
              "    }\n",
              "\n",
              "    .dataframe tbody tr th {\n",
              "        vertical-align: top;\n",
              "    }\n",
              "\n",
              "    .dataframe thead th {\n",
              "        text-align: right;\n",
              "    }\n",
              "</style>\n",
              "<table border=\"1\" class=\"dataframe\">\n",
              "  <thead>\n",
              "    <tr style=\"text-align: right;\">\n",
              "      <th></th>\n",
              "      <th>cod_ref</th>\n",
              "      <th>mes</th>\n",
              "      <th>ano</th>\n",
              "      <th>CISP</th>\n",
              "      <th>AISP</th>\n",
              "      <th>RISP</th>\n",
              "      <th>munic</th>\n",
              "      <th>Regiao</th>\n",
              "      <th>hom_doloso</th>\n",
              "      <th>lesao_corp_morte</th>\n",
              "      <th>latrocinio</th>\n",
              "      <th>hom_por_interv_policial</th>\n",
              "      <th>estupro</th>\n",
              "      <th>roubo_veiculo</th>\n",
              "      <th>furto_veiculos</th>\n",
              "      <th>sequestro</th>\n",
              "      <th>sequestro_relampago</th>\n",
              "      <th>recuperacao_veiculos</th>\n",
              "      <th>pol_militares_mortos_serv</th>\n",
              "      <th>pol_civis_mortos_serv</th>\n",
              "    </tr>\n",
              "  </thead>\n",
              "  <tbody>\n",
              "    <tr>\n",
              "      <th>12148</th>\n",
              "      <td>2010m10c65</td>\n",
              "      <td>10</td>\n",
              "      <td>2010</td>\n",
              "      <td>65</td>\n",
              "      <td>34</td>\n",
              "      <td>3</td>\n",
              "      <td>Magé;Guapimirim</td>\n",
              "      <td>Baixada Fluminense</td>\n",
              "      <td>3</td>\n",
              "      <td>6</td>\n",
              "      <td>0</td>\n",
              "      <td>0</td>\n",
              "      <td>3</td>\n",
              "      <td>11</td>\n",
              "      <td>7</td>\n",
              "      <td>0</td>\n",
              "      <td>0</td>\n",
              "      <td>4</td>\n",
              "      <td>0</td>\n",
              "      <td>0</td>\n",
              "    </tr>\n",
              "  </tbody>\n",
              "</table>\n",
              "</div>"
            ],
            "text/plain": [
              "          cod_ref  mes  ...  pol_militares_mortos_serv  pol_civis_mortos_serv\n",
              "12148  2010m10c65   10  ...                          0                      0\n",
              "\n",
              "[1 rows x 20 columns]"
            ]
          },
          "metadata": {
            "tags": []
          },
          "execution_count": 98
        }
      ]
    },
    {
      "cell_type": "markdown",
      "metadata": {
        "id": "P0Lotwi9A5a3"
      },
      "source": [
        " Magé, Santo Aleixo e Suruí"
      ]
    },
    {
      "cell_type": "code",
      "metadata": {
        "colab": {
          "base_uri": "https://localhost:8080/",
          "height": 114
        },
        "id": "yHWXc1G5iiPP",
        "outputId": "14ddc88a-7058-4b02-b6e0-31d8fad34464"
      },
      "source": [
        "df[df.latrocinio == 9]"
      ],
      "execution_count": 3,
      "outputs": [
        {
          "output_type": "execute_result",
          "data": {
            "text/html": [
              "<div>\n",
              "<style scoped>\n",
              "    .dataframe tbody tr th:only-of-type {\n",
              "        vertical-align: middle;\n",
              "    }\n",
              "\n",
              "    .dataframe tbody tr th {\n",
              "        vertical-align: top;\n",
              "    }\n",
              "\n",
              "    .dataframe thead th {\n",
              "        text-align: right;\n",
              "    }\n",
              "</style>\n",
              "<table border=\"1\" class=\"dataframe\">\n",
              "  <thead>\n",
              "    <tr style=\"text-align: right;\">\n",
              "      <th></th>\n",
              "      <th>cod_ref</th>\n",
              "      <th>mes</th>\n",
              "      <th>ano</th>\n",
              "      <th>CISP</th>\n",
              "      <th>AISP</th>\n",
              "      <th>RISP</th>\n",
              "      <th>munic</th>\n",
              "      <th>Regiao</th>\n",
              "      <th>hom_doloso</th>\n",
              "      <th>lesao_corp_morte</th>\n",
              "      <th>latrocinio</th>\n",
              "      <th>hom_por_interv_policial</th>\n",
              "      <th>estupro</th>\n",
              "      <th>roubo_veiculo</th>\n",
              "      <th>furto_veiculos</th>\n",
              "      <th>sequestro</th>\n",
              "      <th>sequestro_relampago</th>\n",
              "      <th>recuperacao_veiculos</th>\n",
              "      <th>pol_militares_mortos_serv</th>\n",
              "      <th>pol_civis_mortos_serv</th>\n",
              "    </tr>\n",
              "  </thead>\n",
              "  <tbody>\n",
              "    <tr>\n",
              "      <th>5043</th>\n",
              "      <td>2006m04c12</td>\n",
              "      <td>4</td>\n",
              "      <td>2006</td>\n",
              "      <td>12</td>\n",
              "      <td>19</td>\n",
              "      <td>1</td>\n",
              "      <td>Rio de Janeiro</td>\n",
              "      <td>Capital</td>\n",
              "      <td>1</td>\n",
              "      <td>0</td>\n",
              "      <td>9</td>\n",
              "      <td>0</td>\n",
              "      <td>0</td>\n",
              "      <td>2</td>\n",
              "      <td>10</td>\n",
              "      <td>0</td>\n",
              "      <td>0</td>\n",
              "      <td>5</td>\n",
              "      <td>1</td>\n",
              "      <td>0</td>\n",
              "    </tr>\n",
              "  </tbody>\n",
              "</table>\n",
              "</div>"
            ],
            "text/plain": [
              "         cod_ref  mes  ...  pol_militares_mortos_serv  pol_civis_mortos_serv\n",
              "5043  2006m04c12    4  ...                          1                      0\n",
              "\n",
              "[1 rows x 20 columns]"
            ]
          },
          "metadata": {
            "tags": []
          },
          "execution_count": 3
        }
      ]
    },
    {
      "cell_type": "markdown",
      "metadata": {
        "id": "dz1LNn8Nii4u"
      },
      "source": [
        "Copacabana (Parte) e Leme"
      ]
    },
    {
      "cell_type": "code",
      "metadata": {
        "colab": {
          "base_uri": "https://localhost:8080/",
          "height": 117
        },
        "id": "_OIfvGE6AoIH",
        "outputId": "226a6d2c-c7c7-4195-aeb7-1454ed412254"
      },
      "source": [
        "df[df.hom_por_interv_policial == 27]"
      ],
      "execution_count": null,
      "outputs": [
        {
          "output_type": "execute_result",
          "data": {
            "text/html": [
              "<div>\n",
              "<style scoped>\n",
              "    .dataframe tbody tr th:only-of-type {\n",
              "        vertical-align: middle;\n",
              "    }\n",
              "\n",
              "    .dataframe tbody tr th {\n",
              "        vertical-align: top;\n",
              "    }\n",
              "\n",
              "    .dataframe thead th {\n",
              "        text-align: right;\n",
              "    }\n",
              "</style>\n",
              "<table border=\"1\" class=\"dataframe\">\n",
              "  <thead>\n",
              "    <tr style=\"text-align: right;\">\n",
              "      <th></th>\n",
              "      <th>cod_ref</th>\n",
              "      <th>mes</th>\n",
              "      <th>ano</th>\n",
              "      <th>CISP</th>\n",
              "      <th>AISP</th>\n",
              "      <th>RISP</th>\n",
              "      <th>munic</th>\n",
              "      <th>Regiao</th>\n",
              "      <th>hom_doloso</th>\n",
              "      <th>lesao_corp_morte</th>\n",
              "      <th>latrocinio</th>\n",
              "      <th>hom_por_interv_policial</th>\n",
              "      <th>estupro</th>\n",
              "      <th>roubo_veiculo</th>\n",
              "      <th>furto_veiculos</th>\n",
              "      <th>sequestro</th>\n",
              "      <th>sequestro_relampago</th>\n",
              "      <th>recuperacao_veiculos</th>\n",
              "      <th>pol_militares_mortos_serv</th>\n",
              "      <th>pol_civis_mortos_serv</th>\n",
              "    </tr>\n",
              "  </thead>\n",
              "  <tbody>\n",
              "    <tr>\n",
              "      <th>6353</th>\n",
              "      <td>2007m02c22</td>\n",
              "      <td>2</td>\n",
              "      <td>2007</td>\n",
              "      <td>22</td>\n",
              "      <td>16</td>\n",
              "      <td>1</td>\n",
              "      <td>Rio de Janeiro</td>\n",
              "      <td>Capital</td>\n",
              "      <td>13</td>\n",
              "      <td>0</td>\n",
              "      <td>1</td>\n",
              "      <td>27</td>\n",
              "      <td>2</td>\n",
              "      <td>60</td>\n",
              "      <td>27</td>\n",
              "      <td>0</td>\n",
              "      <td>0</td>\n",
              "      <td>39</td>\n",
              "      <td>0</td>\n",
              "      <td>0</td>\n",
              "    </tr>\n",
              "  </tbody>\n",
              "</table>\n",
              "</div>"
            ],
            "text/plain": [
              "         cod_ref  mes  ...  pol_militares_mortos_serv  pol_civis_mortos_serv\n",
              "6353  2007m02c22    2  ...                          0                      0\n",
              "\n",
              "[1 rows x 20 columns]"
            ]
          },
          "metadata": {
            "tags": []
          },
          "execution_count": 50
        }
      ]
    },
    {
      "cell_type": "markdown",
      "metadata": {
        "id": "EDpGxPlaBWv3"
      },
      "source": [
        "Brás de Pina (Parte), Olaria, Penha e Penha Circular (Parte)"
      ]
    },
    {
      "cell_type": "markdown",
      "metadata": {
        "id": "HeYWBjhdMuqS"
      },
      "source": [
        "### Gráficos de Homicídios"
      ]
    },
    {
      "cell_type": "code",
      "metadata": {
        "colab": {
          "base_uri": "https://localhost:8080/",
          "height": 265
        },
        "id": "QmgpYhcvMsTV",
        "outputId": "488eaccd-5c1b-426e-a451-5ac754664447"
      },
      "source": [
        "df.hom_doloso.plot();"
      ],
      "execution_count": null,
      "outputs": [
        {
          "output_type": "display_data",
          "data": {
            "image/png": "[encoded data removed]",
            "text/plain": [
              "<Figure size 432x288 with 1 Axes>"
            ]
          },
          "metadata": {
            "tags": [],
            "needs_background": "light"
          }
        }
      ]
    },
    {
      "cell_type": "markdown",
      "metadata": {
        "id": "YOnxuNWH0W0Q"
      },
      "source": [
        "## Crimes Patrimoniais\n"
      ]
    },
    {
      "cell_type": "code",
      "metadata": {
        "colab": {
          "base_uri": "https://localhost:8080/",
          "height": 297
        },
        "id": "NFNsUMmBBamP",
        "outputId": "376f3889-b4db-4412-8a2a-dbf6c5c05fa9"
      },
      "source": [
        "df[['roubo_veiculo', 'furto_veiculos', 'recuperacao_veiculos']].describe()"
      ],
      "execution_count": null,
      "outputs": [
        {
          "output_type": "execute_result",
          "data": {
            "text/html": [
              "<div>\n",
              "<style scoped>\n",
              "    .dataframe tbody tr th:only-of-type {\n",
              "        vertical-align: middle;\n",
              "    }\n",
              "\n",
              "    .dataframe tbody tr th {\n",
              "        vertical-align: top;\n",
              "    }\n",
              "\n",
              "    .dataframe thead th {\n",
              "        text-align: right;\n",
              "    }\n",
              "</style>\n",
              "<table border=\"1\" class=\"dataframe\">\n",
              "  <thead>\n",
              "    <tr style=\"text-align: right;\">\n",
              "      <th></th>\n",
              "      <th>roubo_veiculo</th>\n",
              "      <th>furto_veiculos</th>\n",
              "      <th>recuperacao_veiculos</th>\n",
              "    </tr>\n",
              "  </thead>\n",
              "  <tbody>\n",
              "    <tr>\n",
              "      <th>count</th>\n",
              "      <td>29231.000000</td>\n",
              "      <td>29231.000000</td>\n",
              "      <td>29231.000000</td>\n",
              "    </tr>\n",
              "    <tr>\n",
              "      <th>mean</th>\n",
              "      <td>20.106770</td>\n",
              "      <td>11.254593</td>\n",
              "      <td>15.148678</td>\n",
              "    </tr>\n",
              "    <tr>\n",
              "      <th>std</th>\n",
              "      <td>34.303196</td>\n",
              "      <td>14.089603</td>\n",
              "      <td>25.747183</td>\n",
              "    </tr>\n",
              "    <tr>\n",
              "      <th>min</th>\n",
              "      <td>0.000000</td>\n",
              "      <td>0.000000</td>\n",
              "      <td>0.000000</td>\n",
              "    </tr>\n",
              "    <tr>\n",
              "      <th>25%</th>\n",
              "      <td>0.000000</td>\n",
              "      <td>1.000000</td>\n",
              "      <td>1.000000</td>\n",
              "    </tr>\n",
              "    <tr>\n",
              "      <th>50%</th>\n",
              "      <td>4.000000</td>\n",
              "      <td>6.000000</td>\n",
              "      <td>5.000000</td>\n",
              "    </tr>\n",
              "    <tr>\n",
              "      <th>75%</th>\n",
              "      <td>26.000000</td>\n",
              "      <td>16.000000</td>\n",
              "      <td>18.000000</td>\n",
              "    </tr>\n",
              "    <tr>\n",
              "      <th>max</th>\n",
              "      <td>394.000000</td>\n",
              "      <td>173.000000</td>\n",
              "      <td>359.000000</td>\n",
              "    </tr>\n",
              "  </tbody>\n",
              "</table>\n",
              "</div>"
            ],
            "text/plain": [
              "       roubo_veiculo  furto_veiculos  recuperacao_veiculos\n",
              "count   29231.000000    29231.000000          29231.000000\n",
              "mean       20.106770       11.254593             15.148678\n",
              "std        34.303196       14.089603             25.747183\n",
              "min         0.000000        0.000000              0.000000\n",
              "25%         0.000000        1.000000              1.000000\n",
              "50%         4.000000        6.000000              5.000000\n",
              "75%        26.000000       16.000000             18.000000\n",
              "max       394.000000      173.000000            359.000000"
            ]
          },
          "metadata": {
            "tags": []
          },
          "execution_count": 52
        }
      ]
    },
    {
      "cell_type": "markdown",
      "metadata": {
        "id": "V02-29xetPsI"
      },
      "source": [
        "### Recuperação de carros roubados\n",
        "\n",
        "Vamos nesse ponto analisar a efetividade da polícia na recuperação desses itens subtraídos. Para isso, o mais interessante seria calcular a relação entre furto e roubo de carros x recuperação de veículos, disponibilizados na base.\n",
        "\n",
        "> $\\frac{\\text{recuperacao_veiculos}}{\\text{roubo_veiculo } + \\text{ furto_veiculos}}$\n",
        "\n"
      ]
    },
    {
      "cell_type": "code",
      "metadata": {
        "colab": {
          "base_uri": "https://localhost:8080/"
        },
        "id": "UWQo8k0_DQ_0",
        "outputId": "803f458a-a34a-4b30-bd21-48333177377a"
      },
      "source": [
        "total_recup = df.recuperacao_veiculos.sum()\n",
        "\n",
        "total_roubo = df.roubo_veiculo.sum()\n",
        "\n",
        "total_furto = df.furto_veiculos.sum()\n",
        "\n",
        "print('Total de recuperação: ', total_recup)\n",
        "\n",
        "print('Total de roubo: ', total_roubo)\n",
        "\n",
        "print('Total de furto: ', total_furto)"
      ],
      "execution_count": null,
      "outputs": [
        {
          "output_type": "stream",
          "text": [
            "Total de recuperação:  442811\n",
            "Total de roubo:  587741\n",
            "Total de furto:  328983\n"
          ],
          "name": "stdout"
        }
      ]
    },
    {
      "cell_type": "code",
      "metadata": {
        "colab": {
          "base_uri": "https://localhost:8080/"
        },
        "id": "PQthxG-dEQBG",
        "outputId": "d5a276ea-e5a2-4260-9d8a-9524c875a584"
      },
      "source": [
        "recuperacao_total = total_recup / (total_roubo + total_furto)\n",
        "\n",
        "print(f'A porcentagem de recuperação de veículos é: {recuperacao_total*100:.1f}%')"
      ],
      "execution_count": null,
      "outputs": [
        {
          "output_type": "stream",
          "text": [
            "A porcentagem de recuperação de veículos é: 48.3%\n"
          ],
          "name": "stdout"
        }
      ]
    },
    {
      "cell_type": "markdown",
      "metadata": {
        "id": "pa0wyDB8NrIz"
      },
      "source": [
        "### Gráficos de Evolução"
      ]
    },
    {
      "cell_type": "markdown",
      "metadata": {
        "id": "TZB89JTrOM0Y"
      },
      "source": [
        "Início de 2016 começou o pico"
      ]
    },
    {
      "cell_type": "code",
      "metadata": {
        "colab": {
          "base_uri": "https://localhost:8080/",
          "height": 265
        },
        "id": "2nIudkQQN1Yc",
        "outputId": "c4af5c15-817f-403b-cdd1-9a2d536c5684"
      },
      "source": [
        "df.roubo_veiculo.plot();"
      ],
      "execution_count": null,
      "outputs": [
        {
          "output_type": "display_data",
          "data": {
            "image/png": "[encoded data removed]",
            "text/plain": [
              "<Figure size 432x288 with 1 Axes>"
            ]
          },
          "metadata": {
            "tags": [],
            "needs_background": "light"
          }
        }
      ]
    },
    {
      "cell_type": "code",
      "metadata": {
        "colab": {
          "base_uri": "https://localhost:8080/",
          "height": 265
        },
        "id": "ED3MSQohN45u",
        "outputId": "eedd0d16-de72-418f-85b1-7e1c322a5a99"
      },
      "source": [
        "df.furto_veiculos.plot();"
      ],
      "execution_count": null,
      "outputs": [
        {
          "output_type": "display_data",
          "data": {
            "image/png": "[encoded data removed]",
            "text/plain": [
              "<Figure size 432x288 with 1 Axes>"
            ]
          },
          "metadata": {
            "tags": [],
            "needs_background": "light"
          }
        }
      ]
    },
    {
      "cell_type": "code",
      "metadata": {
        "colab": {
          "base_uri": "https://localhost:8080/",
          "height": 265
        },
        "id": "Rr8ToWB7N4uI",
        "outputId": "d56e510a-5d3f-41f4-b612-a57504cb13f9"
      },
      "source": [
        "df.recuperacao_veiculos.plot();"
      ],
      "execution_count": null,
      "outputs": [
        {
          "output_type": "display_data",
          "data": {
            "image/png": "[encoded data removed]",
            "text/plain": [
              "<Figure size 432x288 with 1 Axes>"
            ]
          },
          "metadata": {
            "tags": [],
            "needs_background": "light"
          }
        }
      ]
    }
  ]
}